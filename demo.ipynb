{
 "metadata": {
  "language_info": {
   "codemirror_mode": {
    "name": "ipython",
    "version": 3
   },
   "file_extension": ".py",
   "mimetype": "text/x-python",
   "name": "python",
   "nbconvert_exporter": "python",
   "pygments_lexer": "ipython3",
   "version": "3.7.6"
  },
  "orig_nbformat": 2,
  "kernelspec": {
   "name": "python376jvsc74a57bd029e15060d7e00ef5f5fcf3dcb1370e1b29be4566dbf1f2e478355de37df1c4d3",
   "display_name": "Python 3.7.6 64-bit"
  },
  "metadata": {
   "interpreter": {
    "hash": "29e15060d7e00ef5f5fcf3dcb1370e1b29be4566dbf1f2e478355de37df1c4d3"
   }
  }
 },
 "nbformat": 4,
 "nbformat_minor": 2,
 "cells": [
  {
   "cell_type": "code",
   "execution_count": 11,
   "metadata": {
    "tags": []
   },
   "outputs": [
    {
     "output_type": "error",
     "ename": "TypeError",
     "evalue": "list indices must be integers or slices, not str",
     "traceback": [
      "\u001b[1;31m---------------------------------------------------------------------------\u001b[0m",
      "\u001b[1;31mTypeError\u001b[0m                                 Traceback (most recent call last)",
      "\u001b[1;32m<ipython-input-11-abe7d5edf54d>\u001b[0m in \u001b[0;36m<module>\u001b[1;34m\u001b[0m\n\u001b[0;32m     68\u001b[0m \u001b[1;33m\u001b[0m\u001b[0m\n\u001b[0;32m     69\u001b[0m \u001b[0mpredictor\u001b[0m \u001b[1;33m=\u001b[0m \u001b[0mSVMPredictor\u001b[0m\u001b[1;33m(\u001b[0m\u001b[1;33m)\u001b[0m\u001b[1;33m\u001b[0m\u001b[1;33m\u001b[0m\u001b[0m\n\u001b[1;32m---> 70\u001b[1;33m \u001b[0mpickle\u001b[0m\u001b[1;33m.\u001b[0m\u001b[0mdump\u001b[0m\u001b[1;33m(\u001b[0m\u001b[0mpredictor\u001b[0m\u001b[1;33m.\u001b[0m\u001b[0mfetchJSON\u001b[0m\u001b[1;33m(\u001b[0m\u001b[1;33m)\u001b[0m\u001b[1;33m[\u001b[0m\u001b[1;34m\"c\"\u001b[0m\u001b[1;33m]\u001b[0m\u001b[1;33m,\u001b[0m\u001b[0mopen\u001b[0m\u001b[1;33m(\u001b[0m\u001b[1;34m\"btc_data\"\u001b[0m\u001b[1;33m,\u001b[0m\u001b[1;34m\"wb\"\u001b[0m\u001b[1;33m)\u001b[0m\u001b[1;33m)\u001b[0m\u001b[1;33m\u001b[0m\u001b[1;33m\u001b[0m\u001b[0m\n\u001b[0m\u001b[0;32m     71\u001b[0m \u001b[1;31m#print(pickle.load(open(\"btc_data\",\"rb\")))\u001b[0m\u001b[1;33m\u001b[0m\u001b[1;33m\u001b[0m\u001b[1;33m\u001b[0m\u001b[0m\n\u001b[0;32m     72\u001b[0m '''predictor.createDF()\n",
      "\u001b[1;31mTypeError\u001b[0m: list indices must be integers or slices, not str"
     ]
    }
   ],
   "source": [
    "import numpy as np \n",
    "import pandas as pd\n",
    "import requests\n",
    "import datetime as dt\n",
    "import time\n",
    "import matplotlib.pyplot as plt\n",
    "from sklearn.model_selection import train_test_split\n",
    "from sklearn.svm import SVR\n",
    "import pickle\n",
    "\n",
    "class SVMPredictor :\n",
    "    def __init__(self,symbol=\"BTCUSDT\",interval=\"1M\",api=\"https://api.binance.com/api/v3/klines\"):\n",
    "        self.options = {\n",
    "            \"symbol\":symbol,\n",
    "            \"interval\":interval,\n",
    "            \"limit\":\"1000\"\n",
    "        }\n",
    "        self.api = api\n",
    "        self.prediction_time_space = 5\n",
    "\n",
    "    def fetchJSON(self):\n",
    "        return requests.get(url=self.api,params=self.options).json()\n",
    "\n",
    "    def createDF(self):\n",
    "        self.DF = pd.DataFrame(self.fetchJSON())\n",
    "        self.DF.columns = ['open_time','o', 'h', 'l', 'c', 'v','close_time', 'qav', 'num_trades','taker_base_vol', 'taker_quote_vol', 'ignore']\n",
    "        self.latest_timestamp = list(self.DF.close_time)[-1:][0]\n",
    "        \n",
    "    def filterDF(self):\n",
    "        self.df = pd.DataFrame({\"c\":self.DF[\"c\"].astype('float64')})\n",
    "\n",
    "    def initDataset(self,x,y):\n",
    "        self.x_train, self.x_test, self.y_train, self.y_test = train_test_split(x, y, test_size=0.2)\n",
    "\n",
    "    def initSVR(self,kernel=\"rbf\",C=1e5,gamma=0.000001):\n",
    "        self.svr = SVR(kernel=kernel,C=C,gamma = gamma)\n",
    "\n",
    "    def trainSVR(self):\n",
    "        self.svr.fit(self.x_train,self.y_train)\n",
    "    \n",
    "    def getScore(self):\n",
    "        return self.svr.score(self.x_test,self.y_test)\n",
    "\n",
    "    def runSVR(self):\n",
    "        x = np.array(self.df[\"c\"])[:-self.prediction_time_space].reshape(-1, 1)\n",
    "        y = np.array(self.df[\"c\"])[self.prediction_time_space:]\n",
    "        self.initDataset(x,y)\n",
    "        self.initSVR()\n",
    "        self.trainSVR()\n",
    "\n",
    "    def dumpModel(self):\n",
    "        pickle.dump(self.svr, open(\"svr_1\", 'wb'))\n",
    "    \n",
    "    def loadModel(self):\n",
    "        self.svr = pickle.load(open(\"svr_1\", \"rb\"))\n",
    "    \n",
    "    def runForecast(self):\n",
    "        self.forecasted_data = self.svr.predict(np.array(self.df[\"c\"])[-self.prediction_time_space:].reshape(-1, 1))\n",
    "    \n",
    "    def runPrediction(self):\n",
    "        self.prediction = self.svr.predict(np.array(self.df[\"c\"])[:-self.prediction_time_space].reshape(-1, 1))\n",
    "\n",
    "    def plotPrediction(self):\n",
    "        pd.DataFrame({\"Prediction\":self.prediction}).plot()\n",
    "    \n",
    "    def plotForecast(self):\n",
    "        pd.DataFrame({\"Forecast\":self.forecasted_data}).plot()\n",
    "    \n",
    "predictor = SVMPredictor()\n",
    "pickle.dump(predictor.fetchJSON()[\"c\"],open(\"btc_data\",\"wb\"))\n",
    "#print(pickle.load(open(\"btc_data\",\"rb\")))\n",
    "'''predictor.createDF()\n",
    "predictor.filterDF()\n",
    "predictor.runSVR()\n",
    "predictor.runForecast()\n",
    "predictor.plotForecast()'''\n"
   ]
  },
  {
   "cell_type": "code",
   "execution_count": 1,
   "metadata": {},
   "outputs": [
    {
     "output_type": "error",
     "ename": "ModuleNotFoundError",
     "evalue": "No module named 'prophet'",
     "traceback": [
      "\u001b[1;31m---------------------------------------------------------------------------\u001b[0m",
      "\u001b[1;31mModuleNotFoundError\u001b[0m                       Traceback (most recent call last)",
      "\u001b[1;32m<ipython-input-1-84d8a87cb24f>\u001b[0m in \u001b[0;36m<module>\u001b[1;34m\u001b[0m\n\u001b[0;32m      8\u001b[0m \u001b[1;32mfrom\u001b[0m \u001b[0msklearn\u001b[0m\u001b[1;33m.\u001b[0m\u001b[0msvm\u001b[0m \u001b[1;32mimport\u001b[0m \u001b[0mSVR\u001b[0m\u001b[1;33m\u001b[0m\u001b[1;33m\u001b[0m\u001b[0m\n\u001b[0;32m      9\u001b[0m \u001b[1;32mimport\u001b[0m \u001b[0mpickle\u001b[0m\u001b[1;33m\u001b[0m\u001b[1;33m\u001b[0m\u001b[0m\n\u001b[1;32m---> 10\u001b[1;33m \u001b[1;32mfrom\u001b[0m \u001b[0mprophet\u001b[0m \u001b[1;32mimport\u001b[0m \u001b[0mProphet\u001b[0m\u001b[1;33m\u001b[0m\u001b[1;33m\u001b[0m\u001b[0m\n\u001b[0m\u001b[0;32m     11\u001b[0m \u001b[1;31m#from fbprophet import Prophet\u001b[0m\u001b[1;33m\u001b[0m\u001b[1;33m\u001b[0m\u001b[1;33m\u001b[0m\u001b[0m\n\u001b[0;32m     12\u001b[0m \u001b[1;33m\u001b[0m\u001b[0m\n",
      "\u001b[1;31mModuleNotFoundError\u001b[0m: No module named 'prophet'"
     ]
    }
   ],
   "source": [
    "import numpy as np \n",
    "import pandas as pd\n",
    "import requests\n",
    "import datetime as dt\n",
    "import time\n",
    "import matplotlib.pyplot as plt\n",
    "from sklearn.model_selection import train_test_split\n",
    "from sklearn.svm import SVR\n",
    "import pickle\n",
    "from prophet import Prophet\n",
    "#from fbprophet import Prophet\n",
    "\n",
    "df = pd.read_csv(\"btc.csv\")\n",
    "df[\"Timestamp\"] =  pd.to_datetime(df[\"Timestamp\"],unit='s')\n",
    "#df = df.groupby([pd.Grouper(key='Timestamp', freq='H')]).first().reset_index()\n",
    "#df = df.set_index('Timestamp')\n",
    "df = df.set_index('Timestamp')\n",
    "df = df.resample('1h').mean()\n",
    "df = df[['Weighted_Price']]\n",
    "df['Weighted_Price'].fillna(method='ffill', inplace=True)\n",
    "df = df.reset_index().rename(columns = {'Timestamp':'ds','Weighted_Price':'y'})\n",
    "df = df.set_index('ds')\n",
    "df.plot(y=[\"y\"],figsize=(20,5))\n"
   ]
  },
  {
   "cell_type": "code",
   "execution_count": 8,
   "metadata": {
    "tags": []
   },
   "outputs": [
    {
     "output_type": "stream",
     "name": "stdout",
     "text": [
      "                            c      Prediction\nclose_time                                   \n1620857399999  53021.94000000  52317.45000000\n1620857699999  52608.36000000  52533.43000000\n1620857999999  52837.01000000  52536.89000000\n1620858299999  53072.10000000  52942.79000000\n1620858599999  52748.44000000  52415.09000000\n...                       ...             ...\n1621155899999  48998.45000000             NaN\n1621156199999  49105.74000000             NaN\n1621156499999  49061.25000000             NaN\n1621156799999  49176.39000000             NaN\n1621157099999  49044.99000000             NaN\n\n[1000 rows x 2 columns]\n"
     ]
    }
   ],
   "source": [
    "\n",
    "import numpy as np\n",
    "import pandas as pd\n",
    "import requests\n",
    "import datetime as dt\n",
    "import matplotlib.pyplot as plt\n",
    "from sklearn.model_selection import train_test_split\n",
    "from sklearn.svm import SVR\n",
    "import uvicorn\n",
    "from fastapi import FastAPI, Request\n",
    "from fastapi.responses import HTMLResponse\n",
    "from fastapi.staticfiles import StaticFiles\n",
    "from fastapi.templating import Jinja2Templates\n",
    "from typing import Optional\n",
    "options = {\n",
    "        \"symbol\": 'BTCUSDT',\n",
    "        \"interval\": '5m',\n",
    "        \"limit\": \"1000\"\n",
    "    }\n",
    "\n",
    "    #fetch btc price data in json\n",
    "x = requests.get(\n",
    "        url=\"https://api.binance.com/api/v3/klines\", params=options)\n",
    "df = pd.DataFrame(x.json())\n",
    "df.columns = ['open_time', 'o', 'h', 'l', 'c', 'v', 'close_time',\n",
    "                  'qav', 'num_trades', 'taker_base_vol', 'taker_quote_vol', 'ignore']\n",
    "df.index = df.close_time\n",
    "df.drop(columns=['open_time', 'o', 'h', 'l', 'v', 'close_time', 'qav',\n",
    "            'num_trades', 'taker_base_vol', 'taker_quote_vol', 'ignore'], inplace=True)\n",
    "df[\"Prediction\"] = df[\"c\"].shift(-7)\n",
    "print(df)"
   ]
  },
  {
   "cell_type": "code",
   "execution_count": null,
   "metadata": {},
   "outputs": [],
   "source": []
  }
 ]
}